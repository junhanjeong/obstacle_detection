{
 "cells": [
  {
   "cell_type": "code",
   "execution_count": 2,
   "id": "e8a17f5b-590c-4863-956f-04aaafe4f54a",
   "metadata": {},
   "outputs": [],
   "source": [
    "import json\n",
    "import os\n",
    "from glob import glob\n",
    "\n",
    "def convert_to_coco_format(input_folder, output_file):\n",
    "    # COCO 데이터셋 포맷에 맞게 초기 구조 설정\n",
    "    coco_format = {\n",
    "        \"info\": {},\n",
    "        \"licenses\": [],\n",
    "        \"images\": [],\n",
    "        \"annotations\": [],\n",
    "        \"categories\": []\n",
    "    }\n",
    "    \n",
    "    # 이미지 ID와 애너테이션 ID 초기화\n",
    "    image_id = 1\n",
    "    annotation_id = 1\n",
    "    \n",
    "    # 입력 폴더 내의 모든 JSON 파일 처리\n",
    "    for json_file in glob(os.path.join(input_folder, '*.json')):\n",
    "        with open(json_file) as f:\n",
    "            data = json.load(f)\n",
    "        \n",
    "        # COCO 'info'는 한 번만 추가합니다 (첫 번째 파일 기준).\n",
    "        if not coco_format[\"info\"]:\n",
    "            coco_format[\"info\"] = data.get(\"info\", {})\n",
    "            coco_format[\"licenses\"] = data.get(\"license\", [])\n",
    "            coco_format[\"categories\"] = data.get(\"categories\", [])\n",
    "        \n",
    "        # 'images' 정보 추가\n",
    "        for image in data.get(\"images\", []):\n",
    "            image[\"id\"] = image_id\n",
    "            coco_format[\"images\"].append(image)\n",
    "            image_id += 1\n",
    "            \n",
    "        # 'annotations' 정보 추가\n",
    "        for annotation in data.get(\"annotations\", []):\n",
    "            annotation[\"id\"] = annotation_id\n",
    "            annotation[\"image_id\"] = image[\"id\"]\n",
    "            coco_format[\"annotations\"].append(annotation)\n",
    "            annotation_id += 1\n",
    "    \n",
    "    # 결과를 JSON 파일로 저장\n",
    "    with open(output_file, 'w') as f:\n",
    "        json.dump(coco_format, f, indent=4)"
   ]
  },
  {
   "cell_type": "code",
   "execution_count": 5,
   "id": "fb44f206-ddba-4b1a-9091-922478fc80d3",
   "metadata": {},
   "outputs": [],
   "source": [
    "input_folder = '/shared/home/sw_innovation01/junhan/tanso/data/training_data/training_data/labels'  # JSON 파일들이 있는 폴더 경로\n",
    "output_file = '/shared/home/sw_innovation01/junhan/tanso/combined_coco_format.json'  # 결과를 저장할 파일 경로\n",
    "convert_to_coco_format(input_folder, output_file)"
   ]
  }
 ],
 "metadata": {
  "kernelspec": {
   "display_name": "tfhub_test1",
   "language": "python",
   "name": "tfhub_test"
  },
  "language_info": {
   "codemirror_mode": {
    "name": "ipython",
    "version": 3
   },
   "file_extension": ".py",
   "mimetype": "text/x-python",
   "name": "python",
   "nbconvert_exporter": "python",
   "pygments_lexer": "ipython3",
   "version": "3.10.14"
  }
 },
 "nbformat": 4,
 "nbformat_minor": 5
}
